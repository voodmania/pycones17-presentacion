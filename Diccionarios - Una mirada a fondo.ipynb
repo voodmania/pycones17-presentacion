{
 "cells": [
  {
   "cell_type": "code",
   "execution_count": 39,
   "metadata": {
    "collapsed": true
   },
   "outputs": [],
   "source": [
    "from collections import namedtuple\n",
    "\n",
    "DictElement = namedtuple('DictElement', 'hash key value')\n",
    "EMPTY = DictElement(None, None, None)\n",
    "DELETED = DictElement(None, None, None)\n",
    "\n",
    "\n",
    "class SimpleDict(object):\n",
    "    def __init__(self):\n",
    "        self._num_elements = 0\n",
    "        self._num_bits_mask = 3\n",
    "        self._set_size()\n",
    "        self._table = [EMPTY for i in range(self._table_size)]\n",
    "        print('SimpleDict.__init__ size: {} mask:{}'.format(self._table_size, hex(self._mask)))\n",
    "\n",
    "    @staticmethod\n",
    "    def _get_hash(key):\n",
    "        key_hash = hash(key)\n",
    "        key_hash += 2 ** 64 if key_hash < 0 else 0  # 2's complement\n",
    "        return key_hash\n",
    "\n",
    "    @staticmethod\n",
    "    def _get_index(key_hash, mask):\n",
    "        index = key_hash & mask\n",
    "        yield index\n",
    "        perturb = key_hash\n",
    "        while True:\n",
    "            index = (5 * index + perturb + 1) & 0xffffffffffffffff\n",
    "            index &= mask\n",
    "            yield index\n",
    "            perturb >>= 5\n",
    "\n",
    "    def _set_size(self):\n",
    "        self._table_size = 2 ** self._num_bits_mask\n",
    "        self._mask = self._table_size - 1\n",
    "\n",
    "    def _resize(self):\n",
    "        old_table = self._table\n",
    "        self._num_bits_mask += 1\n",
    "        self._set_size()\n",
    "        self._table = [EMPTY for i in range(self._table_size)]\n",
    "        for element in old_table:\n",
    "            if element is not EMPTY and element is not DELETED:\n",
    "                for index in SimpleDict._get_index(element.hash, self._mask):\n",
    "                    if self._table[index] is EMPTY:\n",
    "                        self._table[index] = element\n",
    "                        break\n",
    "            \n",
    "\n",
    "    def add(self, key, value):\n",
    "        key_hash = SimpleDict._get_hash(key)\n",
    "        for index in SimpleDict._get_index(key_hash, self._mask):\n",
    "            if not self._table[index].hash:\n",
    "                self._table[index] = DictElement(key_hash, key, value)\n",
    "                self._num_elements += 1\n",
    "                print(f'{key}:{value} ({key_hash:64b}) added at index: {index}')\n",
    "                if self._num_elements > 2 / 3 * self._table_size:\n",
    "                    self._resize()\n",
    "                return\n",
    "            elif self._table[index].hash == key_hash:\n",
    "                self._table[index] = DictElement(key_hash, key, value)\n",
    "                return\n",
    "            else:\n",
    "                print(f'{key}:{value} ({key_hash:64b}) collision at index: {index}')\n",
    "\n",
    "    def get(self, key):\n",
    "        if self._num_elements:\n",
    "            key_hash = SimpleDict._get_hash(key)\n",
    "            for index in SimpleDict._get_index(key_hash, self._mask):\n",
    "                element = self._table[index]\n",
    "                if element is EMPTY:\n",
    "                    raise KeyError\n",
    "                elif element.hash == key_hash:\n",
    "                    return element.value\n",
    "        else:\n",
    "            raise KeyError\n",
    "\n",
    "    def delete(self, key):\n",
    "        if self._num_elements:\n",
    "            key_hash = SimpleDict._get_hash(key)\n",
    "            for index in SimpleDict._get_index(key_hash, self._mask):\n",
    "                element = self._table[index]\n",
    "                if element is EMPTY:\n",
    "                    raise KeyError\n",
    "                elif element.hash == key_hash:\n",
    "                    self._table[index] = DELETED\n",
    "                    return\n",
    "        else:\n",
    "            raise KeyError\n",
    "\n",
    "    def __repr__(self):\n",
    "        row_format = '|index|hash' + (' ' * 60) + '|key     |value   |'\n",
    "        rows = ['-' * len(row_format), row_format, '-' * len(row_format)]\n",
    "        rows.extend([\n",
    "            '|{}|{:>64}|{:>8}|{:>8}|'.format(\n",
    "                f'{i:05b}', f'{e.hash:064b}' if e.hash else '', e.key or '', e.value or '')\n",
    "            for i, e in enumerate(self._table)\n",
    "        ])\n",
    "        rows.append('-' * len(row_format))\n",
    "        return '\\n'.join(rows)\n"
   ]
  },
  {
   "cell_type": "code",
   "execution_count": 40,
   "metadata": {},
   "outputs": [
    {
     "name": "stdout",
     "output_type": "stream",
     "text": [
      "SimpleDict.__init__ size: 8 mask:0x7\n",
      "a:1 ( 101110100110101111100111110111011100000110100110000000010111101) added at index: 5\n",
      "b:2 (1110111111001001110001000111001101110110001010000100101111000101) collision at index: 5\n",
      "b:2 (1110111111001001110001000111001101110110001010000100101111000101) added at index: 7\n",
      "c:3 (1000100101000100001011010000001011001111011111110011010011110100) added at index: 4\n",
      "d:4 ( 101001100011101000000010001100101111000111100010100000011001110) added at index: 6\n",
      "e:5 (1000010010100100011101111111100001000110110101111111010010001100) collision at index: 4\n",
      "e:5 (1000010010100100011101111111100001000110110101111111010010001100) added at index: 1\n",
      "------------------------------------------------------------------------------------------\n",
      "|index|hash                                                            |key     |value   |\n",
      "------------------------------------------------------------------------------------------\n",
      "|00000|                                                                |        |        |\n",
      "|00001|1000010010100100011101111111100001000110110101111111010010001100|       e|       5|\n",
      "|00010|                                                                |        |        |\n",
      "|00011|                                                                |        |        |\n",
      "|00100|1000100101000100001011010000001011001111011111110011010011110100|       c|       3|\n",
      "|00101|0101110100110101111100111110111011100000110100110000000010111101|       a|       1|\n",
      "|00110|0101001100011101000000010001100101111000111100010100000011001110|       d|       4|\n",
      "|00111|1110111111001001110001000111001101110110001010000100101111000101|       b|       2|\n",
      "------------------------------------------------------------------------------------------\n"
     ]
    }
   ],
   "source": [
    "d = SimpleDict()\n",
    "d.add('a', 1)\n",
    "d.add('b', 2)\n",
    "d.add('c', 3)\n",
    "d.add('d', 4)\n",
    "d.add('e', 5)\n",
    "print(d)"
   ]
  },
  {
   "cell_type": "code",
   "execution_count": 41,
   "metadata": {},
   "outputs": [
    {
     "name": "stdout",
     "output_type": "stream",
     "text": [
      "f:6 (1011000101100001011111100010101101000101000101011011100111011110) collision at index: 6\n",
      "f:6 (1011000101100001011111100010101101000101000101011011100111011110) collision at index: 5\n",
      "f:6 (1011000101100001011111100010101101000101000101011011100111011110) added at index: 0\n",
      "------------------------------------------------------------------------------------------\n",
      "|index|hash                                                            |key     |value   |\n",
      "------------------------------------------------------------------------------------------\n",
      "|00000|                                                                |        |        |\n",
      "|00001|                                                                |        |        |\n",
      "|00010|                                                                |        |        |\n",
      "|00011|                                                                |        |        |\n",
      "|00100|1000100101000100001011010000001011001111011111110011010011110100|       c|       3|\n",
      "|00101|0101001100011101000000010001100101111000111100010100000011001110|       d|       4|\n",
      "|00110|                                                                |        |        |\n",
      "|00111|                                                                |        |        |\n",
      "|01000|                                                                |        |        |\n",
      "|01001|                                                                |        |        |\n",
      "|01010|                                                                |        |        |\n",
      "|01011|                                                                |        |        |\n",
      "|01100|1000010010100100011101111111100001000110110101111111010010001100|       e|       5|\n",
      "|01101|0101110100110101111100111110111011100000110100110000000010111101|       a|       1|\n",
      "|01110|1011000101100001011111100010101101000101000101011011100111011110|       f|       6|\n",
      "|01111|1110111111001001110001000111001101110110001010000100101111000101|       b|       2|\n",
      "------------------------------------------------------------------------------------------\n"
     ]
    }
   ],
   "source": [
    "d.add('f', 6)\n",
    "print(d)"
   ]
  },
  {
   "cell_type": "code",
   "execution_count": 42,
   "metadata": {},
   "outputs": [
    {
     "name": "stdout",
     "output_type": "stream",
     "text": [
      "------------------------------------------------------------------------------------------\n",
      "|index|hash                                                            |key     |value   |\n",
      "------------------------------------------------------------------------------------------\n",
      "|00000|                                                                |        |        |\n",
      "|00001|                                                                |        |        |\n",
      "|00010|                                                                |        |        |\n",
      "|00011|                                                                |        |        |\n",
      "|00100|1000100101000100001011010000001011001111011111110011010011110100|       c|       3|\n",
      "|00101|0101001100011101000000010001100101111000111100010100000011001110|       d|       4|\n",
      "|00110|                                                                |        |        |\n",
      "|00111|                                                                |        |        |\n",
      "|01000|                                                                |        |        |\n",
      "|01001|                                                                |        |        |\n",
      "|01010|                                                                |        |        |\n",
      "|01011|                                                                |        |        |\n",
      "|01100|1000010010100100011101111111100001000110110101111111010010001100|       e|       5|\n",
      "|01101|0101110100110101111100111110111011100000110100110000000010111101|       a|       1|\n",
      "|01110|1011000101100001011111100010101101000101000101011011100111011110|       f|      66|\n",
      "|01111|1110111111001001110001000111001101110110001010000100101111000101|       b|       2|\n",
      "------------------------------------------------------------------------------------------\n"
     ]
    }
   ],
   "source": [
    "d.add('f', 66)\n",
    "print(d)"
   ]
  },
  {
   "cell_type": "code",
   "execution_count": 43,
   "metadata": {},
   "outputs": [
    {
     "name": "stdout",
     "output_type": "stream",
     "text": [
      "a: 1\n",
      "b: 2\n"
     ]
    }
   ],
   "source": [
    "print(f'a: {d.get(\"a\")}')\n",
    "print(f'b: {d.get(\"b\")}')"
   ]
  },
  {
   "cell_type": "code",
   "execution_count": 44,
   "metadata": {},
   "outputs": [
    {
     "ename": "KeyError",
     "evalue": "",
     "output_type": "error",
     "traceback": [
      "\u001b[1;31m---------------------------------------------------------------------------\u001b[0m",
      "\u001b[1;31mKeyError\u001b[0m                                  Traceback (most recent call last)",
      "\u001b[1;32m<ipython-input-44-814611980f01>\u001b[0m in \u001b[0;36m<module>\u001b[1;34m()\u001b[0m\n\u001b[1;32m----> 1\u001b[1;33m \u001b[0md\u001b[0m\u001b[1;33m.\u001b[0m\u001b[0mget\u001b[0m\u001b[1;33m(\u001b[0m\u001b[1;34m'otro'\u001b[0m\u001b[1;33m)\u001b[0m\u001b[1;33m\u001b[0m\u001b[0m\n\u001b[0m",
      "\u001b[1;32m<ipython-input-39-7c695cbaecef>\u001b[0m in \u001b[0;36mget\u001b[1;34m(self, key)\u001b[0m\n\u001b[0;32m     70\u001b[0m                 \u001b[0melement\u001b[0m \u001b[1;33m=\u001b[0m \u001b[0mself\u001b[0m\u001b[1;33m.\u001b[0m\u001b[0m_table\u001b[0m\u001b[1;33m[\u001b[0m\u001b[0mindex\u001b[0m\u001b[1;33m]\u001b[0m\u001b[1;33m\u001b[0m\u001b[0m\n\u001b[0;32m     71\u001b[0m                 \u001b[1;32mif\u001b[0m \u001b[0melement\u001b[0m \u001b[1;32mis\u001b[0m \u001b[0mEMPTY\u001b[0m\u001b[1;33m:\u001b[0m\u001b[1;33m\u001b[0m\u001b[0m\n\u001b[1;32m---> 72\u001b[1;33m                     \u001b[1;32mraise\u001b[0m \u001b[0mKeyError\u001b[0m\u001b[1;33m\u001b[0m\u001b[0m\n\u001b[0m\u001b[0;32m     73\u001b[0m                 \u001b[1;32melif\u001b[0m \u001b[0melement\u001b[0m\u001b[1;33m.\u001b[0m\u001b[0mhash\u001b[0m \u001b[1;33m==\u001b[0m \u001b[0mkey_hash\u001b[0m\u001b[1;33m:\u001b[0m\u001b[1;33m\u001b[0m\u001b[0m\n\u001b[0;32m     74\u001b[0m                     \u001b[1;32mreturn\u001b[0m \u001b[0melement\u001b[0m\u001b[1;33m.\u001b[0m\u001b[0mvalue\u001b[0m\u001b[1;33m\u001b[0m\u001b[0m\n",
      "\u001b[1;31mKeyError\u001b[0m: "
     ]
    }
   ],
   "source": [
    "d.get('otro')"
   ]
  },
  {
   "cell_type": "code",
   "execution_count": 45,
   "metadata": {},
   "outputs": [
    {
     "name": "stdout",
     "output_type": "stream",
     "text": [
      "------------------------------------------------------------------------------------------\n",
      "|index|hash                                                            |key     |value   |\n",
      "------------------------------------------------------------------------------------------\n",
      "|00000|                                                                |        |        |\n",
      "|00001|                                                                |        |        |\n",
      "|00010|                                                                |        |        |\n",
      "|00011|                                                                |        |        |\n",
      "|00100|1000100101000100001011010000001011001111011111110011010011110100|       c|       3|\n",
      "|00101|0101001100011101000000010001100101111000111100010100000011001110|       d|       4|\n",
      "|00110|                                                                |        |        |\n",
      "|00111|                                                                |        |        |\n",
      "|01000|                                                                |        |        |\n",
      "|01001|                                                                |        |        |\n",
      "|01010|                                                                |        |        |\n",
      "|01011|                                                                |        |        |\n",
      "|01100|1000010010100100011101111111100001000110110101111111010010001100|       e|       5|\n",
      "|01101|                                                                |        |        |\n",
      "|01110|1011000101100001011111100010101101000101000101011011100111011110|       f|      66|\n",
      "|01111|1110111111001001110001000111001101110110001010000100101111000101|       b|       2|\n",
      "------------------------------------------------------------------------------------------\n"
     ]
    },
    {
     "ename": "KeyError",
     "evalue": "",
     "output_type": "error",
     "traceback": [
      "\u001b[1;31m---------------------------------------------------------------------------\u001b[0m",
      "\u001b[1;31mKeyError\u001b[0m                                  Traceback (most recent call last)",
      "\u001b[1;32m<ipython-input-45-412f673b1488>\u001b[0m in \u001b[0;36m<module>\u001b[1;34m()\u001b[0m\n\u001b[0;32m      1\u001b[0m \u001b[0md\u001b[0m\u001b[1;33m.\u001b[0m\u001b[0mdelete\u001b[0m\u001b[1;33m(\u001b[0m\u001b[1;34m'a'\u001b[0m\u001b[1;33m)\u001b[0m\u001b[1;33m\u001b[0m\u001b[0m\n\u001b[0;32m      2\u001b[0m \u001b[0mprint\u001b[0m\u001b[1;33m(\u001b[0m\u001b[0md\u001b[0m\u001b[1;33m)\u001b[0m\u001b[1;33m\u001b[0m\u001b[0m\n\u001b[1;32m----> 3\u001b[1;33m \u001b[0md\u001b[0m\u001b[1;33m.\u001b[0m\u001b[0mget\u001b[0m\u001b[1;33m(\u001b[0m\u001b[1;34m'a'\u001b[0m\u001b[1;33m)\u001b[0m\u001b[1;33m\u001b[0m\u001b[0m\n\u001b[0m",
      "\u001b[1;32m<ipython-input-39-7c695cbaecef>\u001b[0m in \u001b[0;36mget\u001b[1;34m(self, key)\u001b[0m\n\u001b[0;32m     70\u001b[0m                 \u001b[0melement\u001b[0m \u001b[1;33m=\u001b[0m \u001b[0mself\u001b[0m\u001b[1;33m.\u001b[0m\u001b[0m_table\u001b[0m\u001b[1;33m[\u001b[0m\u001b[0mindex\u001b[0m\u001b[1;33m]\u001b[0m\u001b[1;33m\u001b[0m\u001b[0m\n\u001b[0;32m     71\u001b[0m                 \u001b[1;32mif\u001b[0m \u001b[0melement\u001b[0m \u001b[1;32mis\u001b[0m \u001b[0mEMPTY\u001b[0m\u001b[1;33m:\u001b[0m\u001b[1;33m\u001b[0m\u001b[0m\n\u001b[1;32m---> 72\u001b[1;33m                     \u001b[1;32mraise\u001b[0m \u001b[0mKeyError\u001b[0m\u001b[1;33m\u001b[0m\u001b[0m\n\u001b[0m\u001b[0;32m     73\u001b[0m                 \u001b[1;32melif\u001b[0m \u001b[0melement\u001b[0m\u001b[1;33m.\u001b[0m\u001b[0mhash\u001b[0m \u001b[1;33m==\u001b[0m \u001b[0mkey_hash\u001b[0m\u001b[1;33m:\u001b[0m\u001b[1;33m\u001b[0m\u001b[0m\n\u001b[0;32m     74\u001b[0m                     \u001b[1;32mreturn\u001b[0m \u001b[0melement\u001b[0m\u001b[1;33m.\u001b[0m\u001b[0mvalue\u001b[0m\u001b[1;33m\u001b[0m\u001b[0m\n",
      "\u001b[1;31mKeyError\u001b[0m: "
     ]
    }
   ],
   "source": [
    "d.delete('a')\n",
    "print(d)\n",
    "d.get('a')"
   ]
  },
  {
   "cell_type": "code",
   "execution_count": 46,
   "metadata": {},
   "outputs": [
    {
     "name": "stdout",
     "output_type": "stream",
     "text": [
      "a:11 ( 101110100110101111100111110111011100000110100110000000010111101) added at index: 13\n",
      "------------------------------------------------------------------------------------------\n",
      "|index|hash                                                            |key     |value   |\n",
      "------------------------------------------------------------------------------------------\n",
      "|00000|                                                                |        |        |\n",
      "|00001|                                                                |        |        |\n",
      "|00010|                                                                |        |        |\n",
      "|00011|                                                                |        |        |\n",
      "|00100|1000100101000100001011010000001011001111011111110011010011110100|       c|       3|\n",
      "|00101|0101001100011101000000010001100101111000111100010100000011001110|       d|       4|\n",
      "|00110|                                                                |        |        |\n",
      "|00111|                                                                |        |        |\n",
      "|01000|                                                                |        |        |\n",
      "|01001|                                                                |        |        |\n",
      "|01010|                                                                |        |        |\n",
      "|01011|                                                                |        |        |\n",
      "|01100|1000010010100100011101111111100001000110110101111111010010001100|       e|       5|\n",
      "|01101|0101110100110101111100111110111011100000110100110000000010111101|       a|      11|\n",
      "|01110|1011000101100001011111100010101101000101000101011011100111011110|       f|      66|\n",
      "|01111|1110111111001001110001000111001101110110001010000100101111000101|       b|       2|\n",
      "------------------------------------------------------------------------------------------\n"
     ]
    }
   ],
   "source": [
    "d.add('a', 11)\n",
    "print(d)"
   ]
  },
  {
   "cell_type": "code",
   "execution_count": null,
   "metadata": {
    "collapsed": true
   },
   "outputs": [],
   "source": []
  }
 ],
 "metadata": {
  "kernelspec": {
   "display_name": "Python 3",
   "language": "python",
   "name": "python3"
  },
  "language_info": {
   "codemirror_mode": {
    "name": "ipython",
    "version": 3
   },
   "file_extension": ".py",
   "mimetype": "text/x-python",
   "name": "python",
   "nbconvert_exporter": "python",
   "pygments_lexer": "ipython3",
   "version": "3.6.2"
  }
 },
 "nbformat": 4,
 "nbformat_minor": 2
}
